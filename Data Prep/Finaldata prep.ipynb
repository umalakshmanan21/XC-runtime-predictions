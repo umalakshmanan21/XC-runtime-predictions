{
 "cells": [
  {
   "cell_type": "markdown",
   "metadata": {},
   "source": [
    "#### boys data without school county and region"
   ]
  },
  {
   "cell_type": "code",
   "execution_count": null,
   "metadata": {},
   "outputs": [],
   "source": [
    "import pandas as pd\n",
    "data_boys = pd.read_csv(\"/Users/VP/Downloads/finaldata.csv\")\n",
    "data_boys = data_boys.drop(['classification','location','County','Region'],axis = 1)"
   ]
  },
  {
   "cell_type": "markdown",
   "metadata": {},
   "source": [
    "#### schools with region details"
   ]
  },
  {
   "cell_type": "code",
   "execution_count": null,
   "metadata": {},
   "outputs": [],
   "source": [
    "data_county = pd.read_csv(\"/Users/VP/Downloads/finalschool1.csv\")\n",
    "data_county"
   ]
  },
  {
   "cell_type": "markdown",
   "metadata": {},
   "source": [
    "####  filtering out schools that match"
   ]
  },
  {
   "cell_type": "code",
   "execution_count": null,
   "metadata": {
    "collapsed": true
   },
   "outputs": [],
   "source": [
    "\n",
    "schoolstoremove1 = pd.merge(data_boys,data_county,how = 'left',right_on = 'schoolname',left_on = 'schoolname')\n",
    "schoolstoremove1['location'].fillna(\"Search\",inplace = True)"
   ]
  },
  {
   "cell_type": "code",
   "execution_count": null,
   "metadata": {
    "collapsed": true
   },
   "outputs": [],
   "source": [
    "schoolstoremove1['schoolname'].fillna( \"classification\" ,inplace =True)\n",
    "schoolsnotmatch1 = schoolstoremove1[schoolstoremove1['schoolname'] == 'Search']\n",
    "schoolsremoved1\n",
    "# use this to merge\n",
    "schoolstomerge1 = schoolstoremove1[schoolstoremove1['schoolname'] != 'Search']\n",
    "#schoolstomerge1.to_csv(\"/Users/VP/Downloads/finalboysdata.csv\",sep = '\\t')\n",
    "schoolsnotmatch1"
   ]
  },
  {
   "cell_type": "code",
   "execution_count": null,
   "metadata": {
    "scrolled": false
   },
   "outputs": [],
   "source": [
    "## to split by high school and then compare\n",
    "data_county['schoolname'] = data_county['schoolname'].str.split(' High').str[0]\n",
    "## school1 will have all the matched rows before any modification.\n",
    "schoolstoremove2 = pd.merge(schoolsremoved1,data_county,how = 'left',right_on = 'schoolname',left_on = 'School')\n",
    "# Use this to merge\n",
    "#schoolstomerge2 = schoolstoremove2[schoolstoremove2['schoolname'] != 'Search']\n",
    "data_county[data_county['schoolname'] == 'Albemarle']"
   ]
  },
  {
   "cell_type": "code",
   "execution_count": null,
   "metadata": {},
   "outputs": [],
   "source": [
    "pd.Series(schoolsremoved2['School'].unique()).tolist()"
   ]
  },
  {
   "cell_type": "code",
   "execution_count": null,
   "metadata": {},
   "outputs": [],
   "source": [
    "# concat both the list , so that all the schools are added to the list\n",
    "schoolsfinal1 = pd.concat([schools,schools1])\n",
    "schoolsfinal1 = schoolsfinal1.drop_duplicates(['schoolname','LastName','FirstName','YearOfGraduation','Time','DateOfMeet','MeetName','Graduation Year Formatted','Freshmen,Sophomore, Junior, Senior'])\n",
    "schoolsfinal1"
   ]
  },
  {
   "cell_type": "code",
   "execution_count": null,
   "metadata": {},
   "outputs": [],
   "source": [
    "schoolconffinal['schoolname'] = schoolconffinal['schoolname'].str.split(' High').str[0]\n",
    "schools3 = pd.merge(data_boys,schoolconffinal,how = 'left',right_on = 'schoolname',left_on = 'School')"
   ]
  },
  {
   "cell_type": "code",
   "execution_count": null,
   "metadata": {},
   "outputs": [],
   "source": [
    "schools3.location.fillna(\"Search\",inplace =True)\n",
    "schools3 = schools3[schools3['location'] == \"Search\"]\n",
    "schools3"
   ]
  },
  {
   "cell_type": "markdown",
   "metadata": {},
   "source": [
    "#### final school data"
   ]
  },
  {
   "cell_type": "code",
   "execution_count": null,
   "metadata": {
    "scrolled": true
   },
   "outputs": [],
   "source": [
    "Schoolsdata = pd.concat([schools3,schoolsfinal1])\n",
    "Schoolsdata"
   ]
  },
  {
   "cell_type": "code",
   "execution_count": null,
   "metadata": {},
   "outputs": [],
   "source": [
    "Schoolsdata.drop_duplicates(['ID','Student.Number','LastName','FirstName','School','YearOfGraduation','Time','DateOfMeet','MeetName','Graduation Year Formatted','Freshmen,Sophomore, Junior, Senior'])"
   ]
  }
 ],
 "metadata": {
  "kernelspec": {
   "display_name": "Python 3",
   "language": "python",
   "name": "python3"
  }
 },
 "nbformat": 4,
 "nbformat_minor": 2
}
